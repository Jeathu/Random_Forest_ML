{
 "cells": [
  {
   "cell_type": "markdown",
   "id": "7b0ef515",
   "metadata": {},
   "source": [
    "\n",
    "## __*TP2 : Apprentissage supervisé - Random Forest*__\n",
    "\n",
    "<br>\n",
    "\n",
    "#### __Exercice 1: Classification avec des Forêts Aléatoires__\n",
    "\n",
    "* Objectif : Dans cet exercice, `vous utiliserez des forêts aléatoires pour classer des données sur des fleurs`   \n",
    "en différentes catégories.\n",
    "\n",
    "* __Données : Nous utiliserons le jeu de données Iris, qui contient des mesures de différentes caractéristiques  \n",
    "de trois espèces de fleurs. Vous pouvez le charger en utilisant scikit-learn.__\n",
    "\n",
    "<br>\n",
    "\n",
    "__Instructions :__\n",
    "\n",
    "* Importez les bibliothèques nécessaires, y compris scikit-learn. \n",
    "* Chargez le jeu de données Iris. \n",
    "* Divisez les données en un ensemble d'entraînement et un ensemble de test. \n",
    "* Créez un modèle de forêt aléatoire avec les paramètres par défaut.\n",
    "* Entraînez le modèle sur l'ensemble d'entraînement.\n",
    "* Faites des prédictions sur l'ensemble de test.\n",
    "* Évaluez les performances du modèle en utilisant des mesures telles que la précision, le rappel et la F-mesure.\n",
    "* Expérimentez en ajustant les hyperparamètres du modèle (par exemple, le nombre d'arbres, la profondeur"
   ]
  },
  {
   "cell_type": "markdown",
   "id": "95b625b1",
   "metadata": {},
   "source": [
    "<br>\n",
    "\n",
    "__*1. Importez les bibliothèques nécessaires, y compris scikit-learn.* ✅__  \n",
    "__*2. Chargez le jeu de données Iris.* ✅__"
   ]
  },
  {
   "cell_type": "code",
   "execution_count": 1,
   "id": "f411dcfa",
   "metadata": {},
   "outputs": [
    {
     "name": "stdout",
     "output_type": "stream",
     "text": [
      "   sepal.length  sepal.width  petal.length  petal.width variety\n",
      "0           5.1          3.5           1.4          0.2  Setosa\n",
      "1           4.9          3.0           1.4          0.2  Setosa\n",
      "2           4.7          3.2           1.3          0.2  Setosa\n",
      "3           4.6          3.1           1.5          0.2  Setosa\n",
      "4           5.0          3.6           1.4          0.2  Setosa\n"
     ]
    }
   ],
   "source": [
    "# Référance:\n",
    "      # https://medium.com/ai-does-it-better/import-csv-data-into-scikit-learn-for-machine-learning-2d2f5c18f100\n",
    "\n",
    "import pandas as pd\n",
    "import matplotlib.pyplot as plt\n",
    "import seaborn as sns\n",
    "from sklearn.model_selection import train_test_split\n",
    "from sklearn.ensemble import RandomForestClassifier\n",
    "from sklearn.metrics import accuracy_score , confusion_matrix, classification_report\n",
    "\n",
    "\n",
    "\n",
    "\n",
    "df = pd.read_csv(\"iris.csv\")\n",
    "print(df.head(5))\n",
    "\n"
   ]
  },
  {
   "cell_type": "markdown",
   "id": "119b197b",
   "metadata": {},
   "source": [
    "<br>\n",
    "<br>\n",
    "\n",
    "__*3. Divisez les données en un ensemble d'entraînement et un ensemble de test*.✅__ "
   ]
  },
  {
   "cell_type": "code",
   "execution_count": 3,
   "id": "798900e7",
   "metadata": {},
   "outputs": [
    {
     "name": "stdout",
     "output_type": "stream",
     "text": [
      "\n",
      "les features :\n",
      "    sepal.length  sepal.width  petal.length  petal.width\n",
      "0           5.1          3.5           1.4          0.2\n",
      "1           4.9          3.0           1.4          0.2\n",
      "2           4.7          3.2           1.3          0.2\n",
      "3           4.6          3.1           1.5          0.2\n",
      "4           5.0          3.6           1.4          0.2\n",
      "\n",
      "\n",
      "la cible : 0    Setosa\n",
      "1    Setosa\n",
      "2    Setosa\n",
      "3    Setosa\n",
      "4    Setosa\n",
      "Name: variety, dtype: object\n"
     ]
    }
   ],
   "source": [
    "# Référance:\n",
    "      # https://builtin.com/data-science/train-test-split#:~:text=Train%20test%20split%20is%20a%20machine%20learning%20technique%20that%20divides,performs%20well%20on%20unseen%20data.\n",
    "      # https://scikit-learn.org/stable/modules/generated/sklearn.model_selection.train_test_split.html\n",
    "\n",
    "\n",
    "# les features (X) et la cible (y)\n",
    "X = df[['sepal.length', 'sepal.width', 'petal.length', 'petal.width']]\n",
    "y = y = df['variety']\n",
    "\n",
    "\n",
    "X_train, X_test, y_train, y_test = train_test_split(\n",
    "    X, y, test_size=0.33, random_state=42)\n",
    "\n",
    "\n",
    "print(\"\\nles features :\\n\", X.head(5))\n",
    "print(\"\\n\\nla cible :\", y.head(5))"
   ]
  },
  {
   "cell_type": "markdown",
   "id": "4a255561",
   "metadata": {},
   "source": [
    "__- Ensemble de donné de train__"
   ]
  },
  {
   "cell_type": "code",
   "execution_count": 4,
   "id": "fc707b63",
   "metadata": {},
   "outputs": [
    {
     "name": "stdout",
     "output_type": "stream",
     "text": [
      "\n",
      "\n",
      "Les donnée de X_train\n",
      "\n",
      "      sepal.length  sepal.width  petal.length  petal.width\n",
      "96            5.7          2.9           4.2          1.3\n",
      "105           7.6          3.0           6.6          2.1\n",
      "66            5.6          3.0           4.5          1.5\n",
      "0             5.1          3.5           1.4          0.2\n",
      "122           7.7          2.8           6.7          2.0\n",
      "..            ...          ...           ...          ...\n",
      "71            6.1          2.8           4.0          1.3\n",
      "106           4.9          2.5           4.5          1.7\n",
      "14            5.8          4.0           1.2          0.2\n",
      "92            5.8          2.6           4.0          1.2\n",
      "102           7.1          3.0           5.9          2.1\n",
      "\n",
      "[100 rows x 4 columns]\n",
      "\n",
      "\n",
      "\n",
      "Les donnée de y_train\n",
      "\n",
      " 96     Versicolor\n",
      "105     Virginica\n",
      "66     Versicolor\n",
      "0          Setosa\n",
      "122     Virginica\n",
      "          ...    \n",
      "71     Versicolor\n",
      "106     Virginica\n",
      "14         Setosa\n",
      "92     Versicolor\n",
      "102     Virginica\n",
      "Name: variety, Length: 100, dtype: object\n"
     ]
    }
   ],
   "source": [
    "print(\"\\n\\nLes donnée de X_train\\n\\n\", X_train)\n",
    "print(\"\\n\\n\\nLes donnée de y_train\\n\\n\", y_train)\n"
   ]
  },
  {
   "cell_type": "markdown",
   "id": "e37dd731",
   "metadata": {},
   "source": [
    "<br>\n",
    "\n",
    "__- Ensemble de donné de test__"
   ]
  },
  {
   "cell_type": "code",
   "execution_count": 5,
   "id": "f500a760",
   "metadata": {},
   "outputs": [
    {
     "name": "stdout",
     "output_type": "stream",
     "text": [
      "\n",
      "\n",
      "Les donnée de X_test\n",
      "\n",
      "      sepal.length  sepal.width  petal.length  petal.width\n",
      "73            6.1          2.8           4.7          1.2\n",
      "18            5.7          3.8           1.7          0.3\n",
      "118           7.7          2.6           6.9          2.3\n",
      "78            6.0          2.9           4.5          1.5\n",
      "76            6.8          2.8           4.8          1.4\n",
      "31            5.4          3.4           1.5          0.4\n",
      "64            5.6          2.9           3.6          1.3\n",
      "141           6.9          3.1           5.1          2.3\n",
      "68            6.2          2.2           4.5          1.5\n",
      "82            5.8          2.7           3.9          1.2\n",
      "\n",
      "\n",
      "Les donnée de Y_test\n",
      "\n",
      " 73     Versicolor\n",
      "18         Setosa\n",
      "118     Virginica\n",
      "78     Versicolor\n",
      "76     Versicolor\n",
      "31         Setosa\n",
      "64     Versicolor\n",
      "141     Virginica\n",
      "68     Versicolor\n",
      "82     Versicolor\n",
      "Name: variety, dtype: object\n"
     ]
    }
   ],
   "source": [
    "print(\"\\n\\nLes donnée de X_test\\n\\n\", X_test.head(10))\n",
    "print(\"\\n\\nLes donnée de Y_test\\n\\n\", y_test.head(10))"
   ]
  },
  {
   "cell_type": "markdown",
   "id": "a7ebd1cf",
   "metadata": {},
   "source": [
    "<br>\n",
    "<br>\n",
    "\n",
    "__*4. Créez un modèle de forêt aléatoire avec les paramètres par défaut*.✅__"
   ]
  },
  {
   "cell_type": "code",
   "execution_count": 6,
   "id": "41292c5d",
   "metadata": {},
   "outputs": [],
   "source": [
    "# Référance\n",
    "    # https://scikit-learn.org/stable/modules/generated/sklearn.ensemble.RandomForestClassifier.html\n",
    "    # https://www.stat4decision.com/fr/foret-aleatoire-avec-python/\n",
    "    # https://kwamimayeden.com/la-foret-aleatoire-random-forest-en-machine-learning/\n",
    "    # https://www.geeksforgeeks.org/dsa/random-forest-classifier-using-scikit-learn/\n",
    "\n",
    "\n",
    "classifier = RandomForestClassifier(n_estimators=100, random_state=42)\n",
    "classifier.fit(X_train, y_train)\n",
    "y_pred = classifier.predict(X_test)\n"
   ]
  },
  {
   "cell_type": "markdown",
   "id": "365018e2",
   "metadata": {},
   "source": [
    "<br>\n",
    "<br>\n",
    "\n",
    "\n",
    "__*5. Évaluez les performances du modèle en utilisant des mesures telles que la précision, le rappel et la F-mesure*.✅__"
   ]
  },
  {
   "cell_type": "code",
   "execution_count": 7,
   "id": "b236104d",
   "metadata": {},
   "outputs": [
    {
     "name": "stdout",
     "output_type": "stream",
     "text": [
      "\n",
      "Accuracy:\n",
      " 98.0 %\n",
      "\n",
      "Confusion Matrice: \n",
      " [[19  0  0]\n",
      " [ 0 15  0]\n",
      " [ 0  1 15]]\n",
      "\n",
      "Classification Report: \n",
      "               precision    recall  f1-score   support\n",
      "\n",
      "      Setosa       1.00      1.00      1.00        19\n",
      "  Versicolor       0.94      1.00      0.97        15\n",
      "   Virginica       1.00      0.94      0.97        16\n",
      "\n",
      "    accuracy                           0.98        50\n",
      "   macro avg       0.98      0.98      0.98        50\n",
      "weighted avg       0.98      0.98      0.98        50\n",
      "\n"
     ]
    },
    {
     "data": {
      "image/png": "[encoded data removed]",
      "text/plain": [
       "<Figure size 800x600 with 1 Axes>"
      ]
     },
     "metadata": {},
     "output_type": "display_data"
    }
   ],
   "source": [
    "acc = accuracy_score(y_test,y_pred)*100\n",
    "print(\"\\nAccuracy:\\n\",round(acc,2),\"%\")\n",
    "\n",
    "conf_matrice = confusion_matrix(y_test,y_pred)\n",
    "print(\"\\nConfusion Matrice:\",\"\\n\",conf_matrice)\n",
    "\n",
    "rapport = classification_report(y_test,y_pred)\n",
    "print(\"\\nClassification Report:\",\"\\n\",rapport)\n",
    "\n",
    "\n",
    "\n",
    "plt.figure(figsize=(8,6))\n",
    "class_names = sorted(y_test.unique())\n",
    "sns.heatmap(\n",
    "        conf_matrice, \n",
    "        annot=True, \n",
    "        fmt='g', \n",
    "        cmap='Blues', \n",
    "        cbar=False, \n",
    "        xticklabels= class_names,\n",
    "        yticklabels= class_names\n",
    ")\n",
    "plt.title(\"Matrice de Confusion\")\n",
    "plt.xlabel('Predicted')\n",
    "plt.ylabel('True')\n",
    "plt.show()"
   ]
  },
  {
   "cell_type": "markdown",
   "id": "2dc7d767",
   "metadata": {},
   "source": [
    "<br>\n",
    "<br>\n",
    "\n",
    "\n",
    "__*6. Expérimentez en ajustant les hyperparamètres du modèle (par exemple, le nombre d'arbres, la profondeur*.✅__  \n",
    "<br>\n",
    "\n",
    "__*7. Évaluez les performances du modèle en utilisant des mesures telles que la\n",
    "précision, le rappel et la F-mesure*.✅__\n",
    "\n",
    "\n",
    "__*8. Expérimentez en ajustant les hyperparamètres du modèle (par exemple, le\n",
    "nombre d'arbres, la profondeur*.✅__"
   ]
  },
  {
   "cell_type": "code",
   "execution_count": 8,
   "id": "78ba5be6",
   "metadata": {},
   "outputs": [
    {
     "name": "stdout",
     "output_type": "stream",
     "text": [
      "Le rapport hyperparamètres :\n",
      "               precision    recall  f1-score   support\n",
      "\n",
      "      Setosa       1.00      1.00      1.00        19\n",
      "  Versicolor       0.94      1.00      0.97        15\n",
      "   Virginica       1.00      0.94      0.97        16\n",
      "\n",
      "    accuracy                           0.98        50\n",
      "   macro avg       0.98      0.98      0.98        50\n",
      "weighted avg       0.98      0.98      0.98        50\n",
      "\n"
     ]
    }
   ],
   "source": [
    "# Réference : \n",
    "     # https://medium.com/@kalpit.sharma/mastering-random-forest-hyperparameter-tuning-for-enhanced-machine-learning-models-2d1a8c6c426f\n",
    "     # https://pub.aimind.so/fine-tuning-random-forest-a-guide-to-refining-hyperparameters-for-maximum-accuracy-1ffe46d11da2\n",
    "     # https://www.kaggle.com/code/nargisbegum82/hyperparameter-tuning-in-random-forests\n",
    "\n",
    "\n",
    "\n",
    "class_tuned = RandomForestClassifier(\n",
    "        n_estimators=200,\n",
    "        max_depth=30,\n",
    "        min_samples_split=5,\n",
    "        min_samples_leaf=2,\n",
    "        max_features='sqrt',\n",
    "        bootstrap=True,\n",
    "        criterion='gini',\n",
    "        class_weight=None,\n",
    "        random_state=42\n",
    ")\n",
    "\n",
    "\n",
    "class_tuned.fit(X_train, y_train)\n",
    "y_pred_tuned = class_tuned.predict(X_test)\n",
    "print(\"Le rapport hyperparamètres :\\n\",classification_report(y_test, y_pred_tuned))\n",
    "\n"
   ]
  },
  {
   "cell_type": "markdown",
   "id": "c3f1b417",
   "metadata": {},
   "source": [
    "<br>\n",
    "<br>\n",
    "<br>\n",
    "\n",
    "\n",
    "## __*Exercice 2 : Optimisation des Forêts Aléatoires*__\n",
    "\n",
    "<br>\n",
    "\n",
    "* `Objectif` : Dans cet exercice, vous `explorerez les techniques d'optimisation des forêts aléatoires` pour améliorer les performances d'un modèle.\n",
    "\n",
    "* __Données : Nous utiliserons le jeu de données CIFAR-10, qui contient 60 000 images réparties en 10 classes différentes.   \n",
    "Vous pouvez le télécharger depuis la bibliothèque torchvision de PyTorch.__\n",
    "\n",
    "<br>\n",
    "\n",
    "__- Instructions :__\n",
    "\n",
    "* Importez les bibliothèques nécessaires, y compris `scikit-learn et PyTorch`.\n",
    "<br>\n",
    "\n",
    "* Chargez le jeu de données `CIFAR-10`.\n",
    "* Prétraitez les données en les normalisant et en les divisant en ensembles d'entraînement, de validation et de test.\n",
    "* Créez un modèle de forêt aléatoire pour la classification des images. Vous\n",
    "pouvez utiliser la classe `RandomForestClassifier` de scikit-learn.\n",
    "* Entraînez le modèle sur l'ensemble d'entraînement et évaluez ses  \n",
    "performances sur l'ensemble de validation en utilisant une métrique de votre  \n",
    "choix (par exemple, l'exactitude).\n",
    "* Explorez `les hyperparamètres du modèle`, `tels que le nombre d'arbres`, \n",
    "`la profondeur maximale des arbres`, et `d'autres paramètres pertinents`.   \n",
    "Utilisez la recherche en grille ou la recherche aléatoire pour trouver les meilleures\n",
    "combinaisons d'hyper paramètres qui améliorent les performances du modèle\n",
    "sur l'ensemble de validation.\n",
    "* Une fois que vous avez obtenu `les meilleurs hyperparamètres`, \n",
    "`évaluez les performances du modèle sur l'ensemble de test`   \n",
    "pour obtenir une estimation réaliste de ses performances en situation réelle.\n",
    "\n",
    "<br>"
   ]
  },
  {
   "cell_type": "markdown",
   "id": "2e7a3081",
   "metadata": {},
   "source": [
    "__*1. Importez les bibliothèques nécessaires, y compris `scikit-learn et PyTorch`*.__"
   ]
  },
  {
   "cell_type": "code",
   "execution_count": 4,
   "id": "e5e27873",
   "metadata": {},
   "outputs": [],
   "source": [
    "# Références :\n",
    "# https://docs.pytorch.org/tutorials/beginner/blitz/cifar10_tutorial.html\n",
    "# https://docs.pytorch.org/vision/main/generated/torchvision.datasets.CIFAR10.html\n",
    "# https://medium.com/@thatchawin.ler/cifar10-with-resnet-in-pytorch-a86fe18049df\n",
    "\n",
    "\n",
    "import numpy as np\n",
    "import seaborn as sns\n",
    "import matplotlib.pyplot as plt\n",
    "from torchvision import datasets, transforms\n",
    "from sklearn.ensemble import RandomForestClassifier\n",
    "from sklearn.metrics import accuracy_score,classification_report,confusion_matrix\n",
    "from sklearn import preprocessing\n",
    "from sklearn.model_selection import GridSearchCV, train_test_split"
   ]
  },
  {
   "cell_type": "markdown",
   "id": "756bbac8",
   "metadata": {},
   "source": [
    "<br>\n",
    "\n",
    "__*2. Chargement du jeu de données `CIFAR-10`*.__"
   ]
  },
  {
   "cell_type": "code",
   "execution_count": null,
   "id": "43faaaf0",
   "metadata": {},
   "outputs": [
    {
     "name": "stdout",
     "output_type": "stream",
     "text": [
      "Le nombre d'exemples d'entraînement est : 50000\n",
      "Le nombre d'exemples de test est : 10000\n"
     ]
    }
   ],
   "source": [
    "\n",
    "transform = transforms.Compose([\n",
    "        # J'ai utilisé resize car les images sont trop grandes pour le CPU\n",
    "    transforms.Resize((16, 16)),\n",
    "    transforms.ToTensor(),\n",
    "    transforms.Normalize((0.5, 0.5, 0.5), (0.5, 0.5, 0.5))\n",
    "])\n",
    "\n",
    "# Charger CIFAR-10\n",
    "train_dataset = datasets.CIFAR10(root='./data', train=True, download=True, transform=transform)\n",
    "test_dataset = datasets.CIFAR10(root='./data', train=False, download=True, transform=transform)\n",
    "\n",
    "# Fonction pour extraire les données\n",
    "def extract_data(dataset):\n",
    "    data = []\n",
    "    labels = []\n",
    "    for img, label in dataset:\n",
    "        data.append(img.numpy().flatten())\n",
    "        labels.append(label)\n",
    "    return np.array(data, dtype=np.float32), np.array(labels)\n",
    "\n",
    "\n",
    "X_train_full, y_train_full = extract_data(train_dataset)\n",
    "X_test, y_test = extract_data(test_dataset)\n",
    "print(\"Le nombre d'exemples d'entraînement est :\", X_train_full.shape[0])\n",
    "print(\"Le nombre d'exemples de test est :\", X_test.shape[0])\n",
    " "
   ]
  },
  {
   "cell_type": "markdown",
   "id": "8105e8e8",
   "metadata": {},
   "source": [
    "<br>\n",
    "\n",
    "__*3. Prétraitez les données en les normalisant et en les divisant en ensembles\n",
    "d'entraînement, de validation et de test.*.__ "
   ]
  },
  {
   "cell_type": "code",
   "execution_count": null,
   "id": "9f8bb7af",
   "metadata": {},
   "outputs": [],
   "source": [
    "\n",
    "# Spéparation des données en train et test\n",
    "X_train, X_val, y_train, y_val = train_test_split(\n",
    "    X_train_full, y_train_full,\n",
    "    test_size=0.1,\n",
    "    random_state=42,\n",
    "    stratify=y_train_full\n",
    ")\n",
    "\n",
    "# prétraitement des données avec un StandardScaler\n",
    "scaler = preprocessing.StandardScaler().fit(X_train)\n",
    "X_train = scaler.fit_transform(X_train)\n",
    "X_val = scaler.transform(X_val)\n",
    "X_test = scaler.transform(X_test)\n"
   ]
  },
  {
   "cell_type": "markdown",
   "id": "39dc90e5",
   "metadata": {},
   "source": [
    "<br>\n",
    "\n",
    "__*4. Créez un modèle de forêt aléatoire pour la classification des images. Vous\n",
    "pouvez utiliser la classe RandomForestClassifier de scikit-learn*.__"
   ]
  },
  {
   "cell_type": "code",
   "execution_count": 7,
   "id": "6dc6b395",
   "metadata": {},
   "outputs": [],
   "source": [
    "# Implementation of Random Forest Classifier\n",
    "rf_model = RandomForestClassifier(random_state=42, n_jobs=-1)\n"
   ]
  },
  {
   "cell_type": "markdown",
   "id": "1b66ed25",
   "metadata": {},
   "source": [
    "<br>\n",
    "\n",
    "__*5. Entraînez le modèle sur l'ensemble d'entraînement et évaluez ses\n",
    "performances sur l'ensemble de validation en utilisant une métrique de votre\n",
    "choix (par exemple, l'exactitude)*.__"
   ]
  },
  {
   "cell_type": "code",
   "execution_count": 8,
   "id": "e8055b39",
   "metadata": {},
   "outputs": [
    {
     "name": "stdout",
     "output_type": "stream",
     "text": [
      "Précision sur l'ensemble de validation : 0.47 %\n"
     ]
    }
   ],
   "source": [
    "\n",
    "rf_model.fit(X_train, y_train)\n",
    "\n",
    "y_val_pred = rf_model.predict(X_val)\n",
    "val_accuracy = accuracy_score(y_val, y_val_pred)\n",
    "print(f\"Précision sur l'ensemble de validation : {val_accuracy:.2f} %\")\n"
   ]
  },
  {
   "cell_type": "markdown",
   "id": "d8fb0907",
   "metadata": {},
   "source": [
    "* __Le modèle de base classe correctement `environ 47 % des images sur l’ensemble de validation`. Cela montre qu’il reconnaît certaines images, mais pas assez pour être fiable.__"
   ]
  },
  {
   "cell_type": "markdown",
   "id": "5e1cd39e",
   "metadata": {},
   "source": [
    "<br>\n",
    "\n",
    "__*6. Explorez les hyperparamètres du modèle, tels que le nombre d'arbres, la\n",
    "profondeur maximale des arbres, et d'autres paramètres pertinents. Utilisez la\n",
    "recherche en grille ou la recherche aléatoire pour trouver les meilleures\n",
    "combinaisons d'hyper paramètres qui améliorent les performances du modèle\n",
    "sur l'ensemble de validation.*.__"
   ]
  },
  {
   "cell_type": "code",
   "execution_count": null,
   "id": "ad84e005",
   "metadata": {},
   "outputs": [
    {
     "name": "stdout",
     "output_type": "stream",
     "text": [
      "Fitting 3 folds for each of 24 candidates, totalling 72 fits\n",
      "\n",
      "Meilleurs paramètres :\n",
      " {'max_depth': None, 'min_samples_leaf': 1, 'min_samples_split': 2, 'n_estimators': 100}\n",
      "\n",
      "Meilleure précision moyenne (CV) : 0.46 %\n"
     ]
    }
   ],
   "source": [
    "# Hyperparamètres de recherche pour un modèle Random Forest\n",
    "param_grid = {\n",
    "    'n_estimators': [50, 100],\n",
    "    'max_depth': [10, 20, None],\n",
    "    'min_samples_split': [2, 5],\n",
    "    'min_samples_leaf': [1, 2]\n",
    "}\n",
    "\n",
    "# Grille de recherche\n",
    "grid_search = GridSearchCV(\n",
    "    estimator=RandomForestClassifier(random_state=42, n_jobs=-1),\n",
    "    param_grid=param_grid,\n",
    "    cv=3,\n",
    "    scoring='accuracy',\n",
    "    n_jobs=-1,\n",
    "    verbose=1\n",
    ")\n",
    "\n",
    "grid_search.fit(X_train, y_train)\n",
    "\n",
    "print(\"\\nMeilleurs paramètres :\\n\", grid_search.best_params_)\n",
    "print(f\"\\nMeilleure précision moyenne (CV) : {grid_search.best_score_:.2f} %\")\n",
    "\n",
    "best_rf = grid_search.best_estimator_\n"
   ]
  },
  {
   "cell_type": "markdown",
   "id": "5e4708ba",
   "metadata": {},
   "source": [
    "* __`Même avec les meilleurs hyperparamètres, le modèle atteint seulement 46 % de précision, donc il n’améliore pas beaucoup le résultat par rapport au modèle de base`.__"
   ]
  },
  {
   "cell_type": "markdown",
   "id": "86dd92b2",
   "metadata": {},
   "source": [
    "<br>\n",
    "\n",
    "__*7. Une fois que vous avez obtenu les meilleurs hyperparamètres, évaluez les\n",
    "performances du modèle sur l'ensemble de test pour obtenir une estimation\n",
    "réaliste de ses performances en situation réelle.*.__"
   ]
  },
  {
   "cell_type": "code",
   "execution_count": 10,
   "id": "e0fb4844",
   "metadata": {},
   "outputs": [
    {
     "name": "stdout",
     "output_type": "stream",
     "text": [
      "\n",
      "✅ Précision finale sur l'ensemble de test : 0.47 %\n"
     ]
    }
   ],
   "source": [
    "y_test_pred = best_rf.predict(X_test)\n",
    "test_accuracy = accuracy_score(y_test, y_test_pred)\n",
    "\n",
    "\n",
    "print(f\"\\n✅ Précision finale sur l'ensemble de test : {test_accuracy:.2f} %\")\n"
   ]
  },
  {
   "cell_type": "code",
   "execution_count": null,
   "id": "9f975c6a",
   "metadata": {},
   "outputs": [
    {
     "name": "stdout",
     "output_type": "stream",
     "text": [
      "              precision    recall  f1-score   support\n",
      "\n",
      "    airplane       0.55      0.56      0.55      1000\n",
      "  automobile       0.53      0.57      0.55      1000\n",
      "        bird       0.38      0.33      0.35      1000\n",
      "         cat       0.35      0.29      0.32      1000\n",
      "        deer       0.42      0.39      0.40      1000\n",
      "         dog       0.45      0.40      0.42      1000\n",
      "        frog       0.48      0.58      0.53      1000\n",
      "       horse       0.50      0.46      0.48      1000\n",
      "        ship       0.57      0.61      0.59      1000\n",
      "       truck       0.47      0.54      0.51      1000\n",
      "\n",
      "    accuracy                           0.47     10000\n",
      "   macro avg       0.47      0.47      0.47     10000\n",
      "weighted avg       0.47      0.47      0.47     10000\n",
      "\n"
     ]
    },
    {
     "data": {
      "image/png": "[encoded data removed]",
      "text/plain": [
       "<Figure size 1000x700 with 2 Axes>"
      ]
     },
     "metadata": {},
     "output_type": "display_data"
    }
   ],
   "source": [
    "\n",
    "# Affichage de matrice de confusion et classification report\n",
    "print(classification_report(y_test, y_test_pred, target_names=train_dataset.classes))\n",
    "\n",
    "conf_mat = confusion_matrix(y_test, y_test_pred)\n",
    "plt.figure(figsize=(10, 7))\n",
    "sns.heatmap(\n",
    "    conf_mat,\n",
    "    annot=True,\n",
    "    fmt='d',\n",
    "    cmap='Blues',\n",
    "    xticklabels=train_dataset.classes,\n",
    "    yticklabels=train_dataset.classes\n",
    ")\n",
    "plt.xlabel('Labels Prédits')\n",
    "plt.ylabel('Labels Réels')\n",
    "plt.title('Matrice de Confusion - Random Forest sur CIFAR-10')\n",
    "plt.show()\n",
    "\n",
    "\n"
   ]
  },
  {
   "cell_type": "markdown",
   "id": "939d65ef",
   "metadata": {},
   "source": [
    "<br>\n",
    "\n",
    "\n",
    "## 🤔 Conclusion\n",
    "\n",
    "L’expérimentation sur le jeu de données **CIFAR-10** avec un modèle de **Forêt Aléatoire** montre que ce type de modèle est `limité face à la complexité des images`, mais fournit tout de même des résultats exploitables.\n",
    "\n",
    "### Hyperparamètres optimaux\n",
    "Les meilleurs hyperparamètres trouvés grâce à la recherche en grille sont :  \n",
    "```python\n",
    "{'max_depth': None, 'min_samples_leaf': 1, 'min_samples_split': 2, 'n_estimators': 100}\n",
    "\n",
    "```\n",
    "\n",
    "### 📊 Résultats obtenus\n",
    "\n",
    "Exactitude sur l’ensemble de validation : **47,48 %**\n",
    "\n",
    "Exactitude sur l’ensemble de test : **47,46 %**"
   ]
  }
 ],
 "metadata": {
  "kernelspec": {
   "display_name": "venv",
   "language": "python",
   "name": "python3"
  },
  "language_info": {
   "codemirror_mode": {
    "name": "ipython",
    "version": 3
   },
   "file_extension": ".py",
   "mimetype": "text/x-python",
   "name": "python",
   "nbconvert_exporter": "python",
   "pygments_lexer": "ipython3",
   "version": "3.11.9"
  }
 },
 "nbformat": 4,
 "nbformat_minor": 5
}
